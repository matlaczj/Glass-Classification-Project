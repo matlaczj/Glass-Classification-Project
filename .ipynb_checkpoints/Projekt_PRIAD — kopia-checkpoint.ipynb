{
 "cells": [
  {
   "cell_type": "markdown",
   "metadata": {},
   "source": [
    "## Projekt grupowy \"Klasyfikacja rodzajów szkła\""
   ]
  },
  {
   "cell_type": "markdown",
   "metadata": {},
   "source": [
    "Zespół 17:\n",
    "Maria Mierzejewska, \n",
    "Karol Cieślik,\n",
    "Jakub Matłacz"
   ]
  },
  {
   "cell_type": "code",
   "execution_count": 1,
   "metadata": {},
   "outputs": [],
   "source": [
    "import pandas as pd\n",
    "import numpy as np\n",
    "import matplotlib.pyplot as plt\n",
    "import seaborn as sns\n",
    "from sklearn.model_selection import train_test_split\n",
    "from sklearn import metrics\n",
    "from imblearn.over_sampling import SMOTE\n",
    "from sklearn.neighbors import KNeighborsClassifier\n",
    "from sklearn.neighbors import NearestCentroid\n",
    "from sklearn.naive_bayes import GaussianNB\n",
    "from sklearn import tree\n",
    "import warnings\n",
    "warnings.filterwarnings('ignore')"
   ]
  },
  {
   "cell_type": "markdown",
   "metadata": {},
   "source": [
    "## 1. Wczytanie danych oryginalnych"
   ]
  },
  {
   "cell_type": "code",
   "execution_count": 2,
   "metadata": {},
   "outputs": [
    {
     "data": {
      "text/html": [
       "<div>\n",
       "<style scoped>\n",
       "    .dataframe tbody tr th:only-of-type {\n",
       "        vertical-align: middle;\n",
       "    }\n",
       "\n",
       "    .dataframe tbody tr th {\n",
       "        vertical-align: top;\n",
       "    }\n",
       "\n",
       "    .dataframe thead th {\n",
       "        text-align: right;\n",
       "    }\n",
       "</style>\n",
       "<table border=\"1\" class=\"dataframe\">\n",
       "  <thead>\n",
       "    <tr style=\"text-align: right;\">\n",
       "      <th></th>\n",
       "      <th>RI</th>\n",
       "      <th>Na</th>\n",
       "      <th>Mg</th>\n",
       "      <th>Al</th>\n",
       "      <th>Si</th>\n",
       "      <th>K</th>\n",
       "      <th>Ca</th>\n",
       "      <th>Ba</th>\n",
       "      <th>Fe</th>\n",
       "      <th>Type</th>\n",
       "    </tr>\n",
       "  </thead>\n",
       "  <tbody>\n",
       "    <tr>\n",
       "      <th>0</th>\n",
       "      <td>1.52101</td>\n",
       "      <td>13.64</td>\n",
       "      <td>4.49</td>\n",
       "      <td>1.10</td>\n",
       "      <td>71.78</td>\n",
       "      <td>0.06</td>\n",
       "      <td>8.75</td>\n",
       "      <td>0.00</td>\n",
       "      <td>0.0</td>\n",
       "      <td>1</td>\n",
       "    </tr>\n",
       "    <tr>\n",
       "      <th>1</th>\n",
       "      <td>1.51761</td>\n",
       "      <td>13.89</td>\n",
       "      <td>3.60</td>\n",
       "      <td>1.36</td>\n",
       "      <td>72.73</td>\n",
       "      <td>0.48</td>\n",
       "      <td>7.83</td>\n",
       "      <td>0.00</td>\n",
       "      <td>0.0</td>\n",
       "      <td>1</td>\n",
       "    </tr>\n",
       "    <tr>\n",
       "      <th>2</th>\n",
       "      <td>1.51618</td>\n",
       "      <td>13.53</td>\n",
       "      <td>3.55</td>\n",
       "      <td>1.54</td>\n",
       "      <td>72.99</td>\n",
       "      <td>0.39</td>\n",
       "      <td>7.78</td>\n",
       "      <td>0.00</td>\n",
       "      <td>0.0</td>\n",
       "      <td>1</td>\n",
       "    </tr>\n",
       "    <tr>\n",
       "      <th>3</th>\n",
       "      <td>1.51766</td>\n",
       "      <td>13.21</td>\n",
       "      <td>3.69</td>\n",
       "      <td>1.29</td>\n",
       "      <td>72.61</td>\n",
       "      <td>0.57</td>\n",
       "      <td>8.22</td>\n",
       "      <td>0.00</td>\n",
       "      <td>0.0</td>\n",
       "      <td>1</td>\n",
       "    </tr>\n",
       "    <tr>\n",
       "      <th>4</th>\n",
       "      <td>1.51742</td>\n",
       "      <td>13.27</td>\n",
       "      <td>3.62</td>\n",
       "      <td>1.24</td>\n",
       "      <td>73.08</td>\n",
       "      <td>0.55</td>\n",
       "      <td>8.07</td>\n",
       "      <td>0.00</td>\n",
       "      <td>0.0</td>\n",
       "      <td>1</td>\n",
       "    </tr>\n",
       "    <tr>\n",
       "      <th>...</th>\n",
       "      <td>...</td>\n",
       "      <td>...</td>\n",
       "      <td>...</td>\n",
       "      <td>...</td>\n",
       "      <td>...</td>\n",
       "      <td>...</td>\n",
       "      <td>...</td>\n",
       "      <td>...</td>\n",
       "      <td>...</td>\n",
       "      <td>...</td>\n",
       "    </tr>\n",
       "    <tr>\n",
       "      <th>209</th>\n",
       "      <td>1.51623</td>\n",
       "      <td>14.14</td>\n",
       "      <td>0.00</td>\n",
       "      <td>2.88</td>\n",
       "      <td>72.61</td>\n",
       "      <td>0.08</td>\n",
       "      <td>9.18</td>\n",
       "      <td>1.06</td>\n",
       "      <td>0.0</td>\n",
       "      <td>7</td>\n",
       "    </tr>\n",
       "    <tr>\n",
       "      <th>210</th>\n",
       "      <td>1.51685</td>\n",
       "      <td>14.92</td>\n",
       "      <td>0.00</td>\n",
       "      <td>1.99</td>\n",
       "      <td>73.06</td>\n",
       "      <td>0.00</td>\n",
       "      <td>8.40</td>\n",
       "      <td>1.59</td>\n",
       "      <td>0.0</td>\n",
       "      <td>7</td>\n",
       "    </tr>\n",
       "    <tr>\n",
       "      <th>211</th>\n",
       "      <td>1.52065</td>\n",
       "      <td>14.36</td>\n",
       "      <td>0.00</td>\n",
       "      <td>2.02</td>\n",
       "      <td>73.42</td>\n",
       "      <td>0.00</td>\n",
       "      <td>8.44</td>\n",
       "      <td>1.64</td>\n",
       "      <td>0.0</td>\n",
       "      <td>7</td>\n",
       "    </tr>\n",
       "    <tr>\n",
       "      <th>212</th>\n",
       "      <td>1.51651</td>\n",
       "      <td>14.38</td>\n",
       "      <td>0.00</td>\n",
       "      <td>1.94</td>\n",
       "      <td>73.61</td>\n",
       "      <td>0.00</td>\n",
       "      <td>8.48</td>\n",
       "      <td>1.57</td>\n",
       "      <td>0.0</td>\n",
       "      <td>7</td>\n",
       "    </tr>\n",
       "    <tr>\n",
       "      <th>213</th>\n",
       "      <td>1.51711</td>\n",
       "      <td>14.23</td>\n",
       "      <td>0.00</td>\n",
       "      <td>2.08</td>\n",
       "      <td>73.36</td>\n",
       "      <td>0.00</td>\n",
       "      <td>8.62</td>\n",
       "      <td>1.67</td>\n",
       "      <td>0.0</td>\n",
       "      <td>7</td>\n",
       "    </tr>\n",
       "  </tbody>\n",
       "</table>\n",
       "<p>214 rows × 10 columns</p>\n",
       "</div>"
      ],
      "text/plain": [
       "          RI     Na    Mg    Al     Si     K    Ca    Ba   Fe  Type\n",
       "0    1.52101  13.64  4.49  1.10  71.78  0.06  8.75  0.00  0.0     1\n",
       "1    1.51761  13.89  3.60  1.36  72.73  0.48  7.83  0.00  0.0     1\n",
       "2    1.51618  13.53  3.55  1.54  72.99  0.39  7.78  0.00  0.0     1\n",
       "3    1.51766  13.21  3.69  1.29  72.61  0.57  8.22  0.00  0.0     1\n",
       "4    1.51742  13.27  3.62  1.24  73.08  0.55  8.07  0.00  0.0     1\n",
       "..       ...    ...   ...   ...    ...   ...   ...   ...  ...   ...\n",
       "209  1.51623  14.14  0.00  2.88  72.61  0.08  9.18  1.06  0.0     7\n",
       "210  1.51685  14.92  0.00  1.99  73.06  0.00  8.40  1.59  0.0     7\n",
       "211  1.52065  14.36  0.00  2.02  73.42  0.00  8.44  1.64  0.0     7\n",
       "212  1.51651  14.38  0.00  1.94  73.61  0.00  8.48  1.57  0.0     7\n",
       "213  1.51711  14.23  0.00  2.08  73.36  0.00  8.62  1.67  0.0     7\n",
       "\n",
       "[214 rows x 10 columns]"
      ]
     },
     "execution_count": 2,
     "metadata": {},
     "output_type": "execute_result"
    }
   ],
   "source": [
    "glass_org = pd.read_csv('glass.csv')\n",
    "glass_org"
   ]
  },
  {
   "cell_type": "markdown",
   "metadata": {},
   "source": [
    "Oznaczenia klas:<br>\n",
    "-- 1 building windows float processed<br>\n",
    "-- 2 building windows non float processed<br> \n",
    "-- 3 vehicle windows float processed<br>\n",
    "-- 4 vehicle windows non float processed (none in this database)<br>\n",
    "-- 5 containers<br>\n",
    "-- 6 tableware<br>\n",
    "-- 7 headlamps"
   ]
  },
  {
   "cell_type": "markdown",
   "metadata": {},
   "source": [
    "## 2. Sprawdzenie braków danych"
   ]
  },
  {
   "cell_type": "code",
   "execution_count": 3,
   "metadata": {},
   "outputs": [
    {
     "name": "stdout",
     "output_type": "stream",
     "text": [
      "<class 'pandas.core.frame.DataFrame'>\n",
      "RangeIndex: 214 entries, 0 to 213\n",
      "Data columns (total 10 columns):\n",
      " #   Column  Non-Null Count  Dtype  \n",
      "---  ------  --------------  -----  \n",
      " 0   RI      214 non-null    float64\n",
      " 1   Na      214 non-null    float64\n",
      " 2   Mg      214 non-null    float64\n",
      " 3   Al      214 non-null    float64\n",
      " 4   Si      214 non-null    float64\n",
      " 5   K       214 non-null    float64\n",
      " 6   Ca      214 non-null    float64\n",
      " 7   Ba      214 non-null    float64\n",
      " 8   Fe      214 non-null    float64\n",
      " 9   Type    214 non-null    int64  \n",
      "dtypes: float64(9), int64(1)\n",
      "memory usage: 16.8 KB\n"
     ]
    }
   ],
   "source": [
    "glass_org.info()"
   ]
  },
  {
   "cell_type": "markdown",
   "metadata": {},
   "source": [
    "## 3. Wykresy pudełkowe i skrzypcowe"
   ]
  },
  {
   "cell_type": "code",
   "execution_count": 4,
   "metadata": {
    "scrolled": false
   },
   "outputs": [],
   "source": [
    "def pokaz_pudelka(glass):\n",
    "    plt.figure(figsize=(10,50), dpi= 80)\n",
    "    plt.subplot(10,1,1)\n",
    "    sns.boxplot(data=glass.iloc[:,0:-1])\n",
    "    atrybuty = \"RI Na Mg Al Si K Ca Ba Fe\".split()\n",
    "    for i in range(2,11):\n",
    "        plt.subplot(10,1,i)\n",
    "        sns.boxplot(x=\"Type\", y=atrybuty[i-2], data=glass)"
   ]
  },
  {
   "cell_type": "code",
   "execution_count": 5,
   "metadata": {},
   "outputs": [],
   "source": [
    "def pokaz_skrzypce(glass):\n",
    "    plt.figure(figsize=(10,50), dpi= 80)\n",
    "    plt.subplot(10,1,1)\n",
    "    sns.violinplot(data=glass.iloc[:,0:-1])\n",
    "    atrybuty = \"RI Na Mg Al Si K Ca Ba Fe\".split()\n",
    "    for i in range(2,11):\n",
    "        plt.subplot(10,1,i)\n",
    "        sns.violinplot(x=\"Type\", y=atrybuty[i-2], data=glass)"
   ]
  },
  {
   "cell_type": "markdown",
   "metadata": {},
   "source": [
    "Obejrzymy teraz wykresy pudełkowe i skrzypcowe oryginalnych danych:"
   ]
  },
  {
   "cell_type": "code",
   "execution_count": null,
   "metadata": {},
   "outputs": [],
   "source": [
    "pokaz_pudelka(glass_org)"
   ]
  },
  {
   "cell_type": "code",
   "execution_count": null,
   "metadata": {},
   "outputs": [],
   "source": [
    "pokaz_skrzypce(glass_org)"
   ]
  },
  {
   "cell_type": "markdown",
   "metadata": {},
   "source": [
    "## 4. Macierz korelacji oraz macierz wykresów punktowych"
   ]
  },
  {
   "cell_type": "markdown",
   "metadata": {},
   "source": [
    "Macierz korelacji Pearsona w celu ewentualnej eliminacji zbędnych atrybutów:"
   ]
  },
  {
   "cell_type": "markdown",
   "metadata": {},
   "source": [
    "Widać, że cecha Ca jest mocno skorelowana z cechą RI jednak nie wystarczająco, aby pominąć jedną z nich."
   ]
  },
  {
   "cell_type": "code",
   "execution_count": null,
   "metadata": {},
   "outputs": [],
   "source": [
    "sns.heatmap(glass_org.corr(), annot = glass_org.corr())"
   ]
  },
  {
   "cell_type": "markdown",
   "metadata": {},
   "source": [
    "Macierz wykresów punktowych w celu lepszej wizualizacji zbioru:"
   ]
  },
  {
   "cell_type": "markdown",
   "metadata": {},
   "source": [
    "Widać, że cecha Ba może być dobrym wyznacznikiem przynależności obiektu do klasy 7. Wiele z histogramów przenika się w ogromnym stopniu."
   ]
  },
  {
   "cell_type": "code",
   "execution_count": null,
   "metadata": {},
   "outputs": [],
   "source": [
    "sns.pairplot(glass_org, kind=\"scatter\", hue = \"Type\")"
   ]
  },
  {
   "cell_type": "markdown",
   "metadata": {},
   "source": [
    "## 5. Oversampling oraz badanie dystrybucji klas  "
   ]
  },
  {
   "cell_type": "code",
   "execution_count": 6,
   "metadata": {},
   "outputs": [],
   "source": [
    "def class_distr(glass):\n",
    "    ile_ob_klas = []\n",
    "    for i in range(1,8):\n",
    "        ile_ob_klas.append(glass[glass.Type == i].shape[0])\n",
    "    ile_ob_klas = pd.DataFrame(ile_ob_klas, index=range(1,8), columns=['ilość obiektów'])\n",
    "    print(ile_ob_klas)\n",
    "    ile_ob_klas.plot(kind='bar')"
   ]
  },
  {
   "cell_type": "code",
   "execution_count": 7,
   "metadata": {},
   "outputs": [],
   "source": [
    "def podziel(df, proporcja):\n",
    "    opis_ucz, opis_test, dec_ucz, dec_test = train_test_split(\n",
    "        df.iloc[:,0:-1], df.iloc[:,-1], test_size=proporcja, random_state=3)\n",
    "    return {\"opis_ucz\":opis_ucz, \"opis_test\":opis_test, \"dec_ucz\":dec_ucz, \"dec_test\":dec_test}"
   ]
  },
  {
   "cell_type": "code",
   "execution_count": 8,
   "metadata": {},
   "outputs": [
    {
     "name": "stdout",
     "output_type": "stream",
     "text": [
      "   ilość obiektów\n",
      "1              70\n",
      "2              76\n",
      "3              17\n",
      "4               0\n",
      "5              13\n",
      "6               9\n",
      "7              29\n"
     ]
    },
    {
     "data": {
      "image/png": "[encoded data removed]",
      "text/plain": [
       "<Figure size 432x288 with 1 Axes>"
      ]
     },
     "metadata": {
      "needs_background": "light"
     },
     "output_type": "display_data"
    }
   ],
   "source": [
    "class_distr(glass_org)"
   ]
  },
  {
   "cell_type": "markdown",
   "metadata": {},
   "source": [
    "Klasa 4 zostanie całkowicie pominięta w następujących rozważaniach i można ją traktować jako nieistniejącą. Z powodu braku jej próbek żaden obiekt nie będzie mógł zostać do niej przypisany."
   ]
  },
  {
   "cell_type": "markdown",
   "metadata": {},
   "source": [
    "Oryginalny zbiór jest niezbalansowany. Dzielimy go na część uczącą i testową. Pierwszą oversamplujemy (co jak widać na wykresie pozwoliło zbalansować zbiór uczący), a drugą zostawiamy i nie ruszamy tak, aby nie istniała część wspólna między zbiorem uczącym, a testowym (aby nasze wyniki nie były zakłamane)."
   ]
  },
  {
   "cell_type": "code",
   "execution_count": 26,
   "metadata": {},
   "outputs": [],
   "source": [
    "glass_org_split = podziel(glass_org, 0.3)\n",
    "x_learn = glass_org_split['opis_ucz']\n",
    "y_learn = glass_org_split['dec_ucz']\n",
    "x_test = glass_org_split['opis_test']\n",
    "y_test = glass_org_split['dec_test']"
   ]
  },
  {
   "cell_type": "code",
   "execution_count": 27,
   "metadata": {},
   "outputs": [],
   "source": [
    "sm = SMOTE(random_state=3)\n",
    "x_learn_res, y_learn_res = sm.fit_resample(x_learn, y_learn)"
   ]
  },
  {
   "cell_type": "markdown",
   "metadata": {},
   "source": [
    "Teraz obejrzyjmy wyniki podziału na część uczącą i testową:"
   ]
  },
  {
   "cell_type": "code",
   "execution_count": 28,
   "metadata": {},
   "outputs": [
    {
     "name": "stdout",
     "output_type": "stream",
     "text": [
      "   ilość obiektów\n",
      "1              49\n",
      "2              56\n",
      "3              12\n",
      "4               0\n",
      "5               8\n",
      "6               7\n",
      "7              17\n"
     ]
    },
    {
     "data": {
      "image/png": "[encoded data removed]",
      "text/plain": [
       "<Figure size 432x288 with 1 Axes>"
      ]
     },
     "metadata": {
      "needs_background": "light"
     },
     "output_type": "display_data"
    }
   ],
   "source": [
    "glass_learn = x_learn.copy()\n",
    "glass_learn['Type'] = y_learn\n",
    "class_distr(glass_learn)"
   ]
  },
  {
   "cell_type": "code",
   "execution_count": 29,
   "metadata": {},
   "outputs": [
    {
     "name": "stdout",
     "output_type": "stream",
     "text": [
      "   ilość obiektów\n",
      "1              21\n",
      "2              20\n",
      "3               5\n",
      "4               0\n",
      "5               5\n",
      "6               2\n",
      "7              12\n"
     ]
    },
    {
     "data": {
      "image/png": "[encoded data removed]",
      "text/plain": [
       "<Figure size 432x288 with 1 Axes>"
      ]
     },
     "metadata": {
      "needs_background": "light"
     },
     "output_type": "display_data"
    }
   ],
   "source": [
    "glass_test = x_test.copy()\n",
    "glass_test['Type'] = y_test\n",
    "class_distr(glass_test)"
   ]
  },
  {
   "cell_type": "markdown",
   "metadata": {},
   "source": [
    "Dystrybucja klas w oversamplowanym zbiorzę uczącym:"
   ]
  },
  {
   "cell_type": "code",
   "execution_count": 30,
   "metadata": {},
   "outputs": [
    {
     "name": "stdout",
     "output_type": "stream",
     "text": [
      "   ilość obiektów\n",
      "1              56\n",
      "2              56\n",
      "3              56\n",
      "4               0\n",
      "5              56\n",
      "6              56\n",
      "7              56\n"
     ]
    },
    {
     "data": {
      "image/png": "[encoded data removed]",
      "text/plain": [
       "<Figure size 432x288 with 1 Axes>"
      ]
     },
     "metadata": {
      "needs_background": "light"
     },
     "output_type": "display_data"
    }
   ],
   "source": [
    "glass_learn_res = x_learn_res.copy()\n",
    "glass_learn_res['Type'] = y_learn_res\n",
    "class_distr(glass_learn_res)"
   ]
  },
  {
   "cell_type": "markdown",
   "metadata": {},
   "source": [
    "## 6. Testowanie modeli"
   ]
  },
  {
   "cell_type": "code",
   "execution_count": 31,
   "metadata": {},
   "outputs": [],
   "source": [
    "def weryfikuj(model):\n",
    "    #pozwala sprawdzić z pomocą macierzy pomyłek jak działa dany model\n",
    "    model.fit(x_learn_res, y_learn_res)\n",
    "    \n",
    "    wynik_ucz = model.predict(x_learn_res)\n",
    "    wynik_test = model.predict(x_test)\n",
    "    \n",
    "    print(\"Macierz pomyłek dla zbioru uczącego\")\n",
    "    print(pd.crosstab(y_learn_res, wynik_ucz)) \n",
    "    wyn_ucz = model.score(x_learn_res, y_learn_res)\n",
    "    print(\"Blad uczenia \", 1-wyn_ucz)\n",
    "    \n",
    "    print(\"\\nMacierz pomyłek dla zbioru testowego\")\n",
    "    print(pd.crosstab(y_test, wynik_test)) \n",
    "    wyn_test = model.score(x_test, y_test)\n",
    "    print(\"Blad testowania \", 1-wyn_test)\n",
    "    \n",
    "    print(\"\\nPrecyzja i czułość\\n\", metrics.classification_report(y_test, wynik_test, digits=2))"
   ]
  },
  {
   "cell_type": "code",
   "execution_count": 32,
   "metadata": {},
   "outputs": [],
   "source": [
    "def wykres_bledu(max_k):\n",
    "    #tworzy wykres bledu dla algorytmu kNN by wybrać najlepsze k\n",
    "    wyniki = []\n",
    "    for i in range(1,max_k+1):\n",
    "        model = KNeighborsClassifier(n_neighbors=i)\n",
    "        model.fit(x_learn_res, y_learn_res)\n",
    "        wyn_test = 1-model.score(x_test, y_test)\n",
    "        wyniki.append(wyn_test)\n",
    "    kwart = pd.DataFrame(wyniki, index=range(1,max_k+1))\n",
    "    plt.figure(dpi=90)\n",
    "    plt.plot(kwart,'bo-')\n",
    "    plt.title('Wykres bledu')\n",
    "    plt.xlabel('Liczba sasiadow')\n",
    "    plt.ylabel('Prawdopodobienstwo bledu')"
   ]
  },
  {
   "cell_type": "markdown",
   "metadata": {},
   "source": [
    "Szukanie najlepszego k dla algorytmu kNN. Jak widać poniżej najlepsze wyniki mamy dla k=2:"
   ]
  },
  {
   "cell_type": "code",
   "execution_count": 33,
   "metadata": {
    "scrolled": false
   },
   "outputs": [
    {
     "data": {
      "image/png": "[encoded data removed]",
      "text/plain": [
       "<Figure size 540x360 with 1 Axes>"
      ]
     },
     "metadata": {
      "needs_background": "light"
     },
     "output_type": "display_data"
    }
   ],
   "source": [
    "wykres_bledu(10)"
   ]
  },
  {
   "cell_type": "markdown",
   "metadata": {},
   "source": [
    "> **KNeighborsClassifier**"
   ]
  },
  {
   "cell_type": "markdown",
   "metadata": {},
   "source": [
    "Zaskakująco dobre wyniki tak prostego algorytmu uczenia leniwego. Wygląda na to, że nie ma ryzyka przetrenowania. Akceptowalny błąd zbioru testowego. Poza tym nie sprawdzam tylko błędu testowania gdyż zbiór testowy nie jest zbalansowany. Sprawdzam więc przede wszystkim precyzję i czułość."
   ]
  },
  {
   "cell_type": "code",
   "execution_count": 34,
   "metadata": {
    "scrolled": false
   },
   "outputs": [
    {
     "name": "stdout",
     "output_type": "stream",
     "text": [
      "Macierz pomyłek dla zbioru uczącego\n",
      "col_0   1   2   3   5   6   7\n",
      "Type                         \n",
      "1      47   2   7   0   0   0\n",
      "2       5  48   2   0   1   0\n",
      "3       4   0  52   0   0   0\n",
      "5       0   0   0  56   0   0\n",
      "6       0   0   0   0  56   0\n",
      "7       0   0   0   0   0  56\n",
      "Blad uczenia  0.0625\n",
      "\n",
      "Macierz pomyłek dla zbioru testowego\n",
      "col_0   1   2  3  5  6   7\n",
      "Type                      \n",
      "1      16   2  3  0  0   0\n",
      "2       1  14  2  0  3   0\n",
      "3       1   0  4  0  0   0\n",
      "5       0   0  0  4  0   1\n",
      "6       0   0  0  1  1   0\n",
      "7       1   0  0  0  1  10\n",
      "Blad testowania  0.24615384615384617\n",
      "\n",
      "Precyzja i czułość\n",
      "               precision    recall  f1-score   support\n",
      "\n",
      "           1       0.84      0.76      0.80        21\n",
      "           2       0.88      0.70      0.78        20\n",
      "           3       0.44      0.80      0.57         5\n",
      "           5       0.80      0.80      0.80         5\n",
      "           6       0.20      0.50      0.29         2\n",
      "           7       0.91      0.83      0.87        12\n",
      "\n",
      "    accuracy                           0.75        65\n",
      "   macro avg       0.68      0.73      0.68        65\n",
      "weighted avg       0.81      0.75      0.77        65\n",
      "\n"
     ]
    }
   ],
   "source": [
    "model = KNeighborsClassifier(n_neighbors=3)\n",
    "weryfikuj(model)"
   ]
  },
  {
   "cell_type": "markdown",
   "metadata": {},
   "source": [
    "> **NearestCentroid**"
   ]
  },
  {
   "cell_type": "markdown",
   "metadata": {},
   "source": [
    "Od razu widać duży błąd testowania oraz gorszą średnią czułość i precyzję."
   ]
  },
  {
   "cell_type": "code",
   "execution_count": 35,
   "metadata": {
    "scrolled": false
   },
   "outputs": [
    {
     "name": "stdout",
     "output_type": "stream",
     "text": [
      "Macierz pomyłek dla zbioru uczącego\n",
      "col_0   1  2   3   5   6   7\n",
      "Type                        \n",
      "1      29  6  21   0   0   0\n",
      "2      22  9  18   7   0   0\n",
      "3      27  1  28   0   0   0\n",
      "5       0  0   0  56   0   0\n",
      "6       0  0   0   0  56   0\n",
      "7       0  2   1   2   1  50\n",
      "Blad uczenia  0.3214285714285714\n",
      "\n",
      "Macierz pomyłek dla zbioru testowego\n",
      "col_0   1  2  3  5  6  7\n",
      "Type                    \n",
      "1      13  1  7  0  0  0\n",
      "2       9  2  5  3  1  0\n",
      "3       0  1  4  0  0  0\n",
      "5       0  1  0  4  0  0\n",
      "6       0  0  0  1  1  0\n",
      "7       0  0  2  0  1  9\n",
      "Blad testowania  0.49230769230769234\n",
      "\n",
      "Precyzja i czułość\n",
      "               precision    recall  f1-score   support\n",
      "\n",
      "           1       0.59      0.62      0.60        21\n",
      "           2       0.40      0.10      0.16        20\n",
      "           3       0.22      0.80      0.35         5\n",
      "           5       0.50      0.80      0.62         5\n",
      "           6       0.33      0.50      0.40         2\n",
      "           7       1.00      0.75      0.86        12\n",
      "\n",
      "    accuracy                           0.51        65\n",
      "   macro avg       0.51      0.59      0.50        65\n",
      "weighted avg       0.56      0.51      0.49        65\n",
      "\n"
     ]
    }
   ],
   "source": [
    "model = NearestCentroid()\n",
    "weryfikuj(model)"
   ]
  },
  {
   "cell_type": "markdown",
   "metadata": {},
   "source": [
    "> **GaussianNB**"
   ]
  },
  {
   "cell_type": "code",
   "execution_count": 36,
   "metadata": {
    "scrolled": false
   },
   "outputs": [
    {
     "name": "stdout",
     "output_type": "stream",
     "text": [
      "Macierz pomyłek dla zbioru uczącego\n",
      "col_0   1  2   3   5   6   7\n",
      "Type                        \n",
      "1      33  1  21   0   1   0\n",
      "2      35  9   8   3   1   0\n",
      "3       7  0  48   0   1   0\n",
      "5       0  0   0  56   0   0\n",
      "6       0  0   0   0  56   0\n",
      "7       0  2   0   2   0  52\n",
      "Blad uczenia  0.24404761904761907\n",
      "\n",
      "Macierz pomyłek dla zbioru testowego\n",
      "col_0   1  2  3  5  6   7\n",
      "Type                     \n",
      "1      15  1  5  0  0   0\n",
      "2      12  2  2  2  2   0\n",
      "3       2  0  3  0  0   0\n",
      "5       0  0  0  4  0   1\n",
      "6       0  0  0  0  2   0\n",
      "7       1  0  0  0  0  11\n",
      "Blad testowania  0.4307692307692308\n",
      "\n",
      "Precyzja i czułość\n",
      "               precision    recall  f1-score   support\n",
      "\n",
      "           1       0.50      0.71      0.59        21\n",
      "           2       0.67      0.10      0.17        20\n",
      "           3       0.30      0.60      0.40         5\n",
      "           5       0.67      0.80      0.73         5\n",
      "           6       0.50      1.00      0.67         2\n",
      "           7       0.92      0.92      0.92        12\n",
      "\n",
      "    accuracy                           0.57        65\n",
      "   macro avg       0.59      0.69      0.58        65\n",
      "weighted avg       0.63      0.57      0.52        65\n",
      "\n"
     ]
    }
   ],
   "source": [
    "model = GaussianNB()\n",
    "weryfikuj(model)"
   ]
  },
  {
   "cell_type": "markdown",
   "metadata": {},
   "source": [
    "> **DecisionTreeClassifier**"
   ]
  },
  {
   "cell_type": "code",
   "execution_count": 37,
   "metadata": {
    "scrolled": false
   },
   "outputs": [
    {
     "name": "stdout",
     "output_type": "stream",
     "text": [
      "Macierz pomyłek dla zbioru uczącego\n",
      "col_0   1   2   3   5   6   7\n",
      "Type                         \n",
      "1      36   4  16   0   0   0\n",
      "2      14  38   4   0   0   0\n",
      "3       4   0  52   0   0   0\n",
      "5       0   0   0  56   0   0\n",
      "6       0   0   0   0  56   0\n",
      "7       1   1   0   0   0  54\n",
      "Blad uczenia  0.13095238095238093\n",
      "\n",
      "Macierz pomyłek dla zbioru testowego\n",
      "col_0   1   2  3  5  6   7\n",
      "Type                      \n",
      "1      11   5  5  0  0   0\n",
      "2       5  11  2  1  1   0\n",
      "3       1   1  3  0  0   0\n",
      "5       1   1  0  2  0   1\n",
      "6       0   0  0  0  2   0\n",
      "7       1   0  1  0  0  10\n",
      "Blad testowania  0.4\n",
      "\n",
      "Precyzja i czułość\n",
      "               precision    recall  f1-score   support\n",
      "\n",
      "           1       0.58      0.52      0.55        21\n",
      "           2       0.61      0.55      0.58        20\n",
      "           3       0.27      0.60      0.37         5\n",
      "           5       0.67      0.40      0.50         5\n",
      "           6       0.67      1.00      0.80         2\n",
      "           7       0.91      0.83      0.87        12\n",
      "\n",
      "    accuracy                           0.60        65\n",
      "   macro avg       0.62      0.65      0.61        65\n",
      "weighted avg       0.64      0.60      0.61        65\n",
      "\n"
     ]
    }
   ],
   "source": [
    "model = tree.DecisionTreeClassifier(max_depth=4)\n",
    "weryfikuj(model)"
   ]
  },
  {
   "cell_type": "markdown",
   "metadata": {},
   "source": [
    "Wygląda na to, że najlepszym modelem okazał się kNN dla k=3."
   ]
  },
  {
   "cell_type": "code",
   "execution_count": null,
   "metadata": {},
   "outputs": [],
   "source": []
  }
 ],
 "metadata": {
  "kernelspec": {
   "display_name": "Python 3",
   "language": "python",
   "name": "python3"
  },
  "language_info": {
   "codemirror_mode": {
    "name": "ipython",
    "version": 3
   },
   "file_extension": ".py",
   "mimetype": "text/x-python",
   "name": "python",
   "nbconvert_exporter": "python",
   "pygments_lexer": "ipython3",
   "version": "3.8.3"
  }
 },
 "nbformat": 4,
 "nbformat_minor": 4
}
